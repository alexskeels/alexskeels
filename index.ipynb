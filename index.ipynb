{
  "cells": [
    {
      "cell_type": "raw",
      "metadata": {},
      "source": [
        "---\n",
        "title: \"Alex Skeels - biodiversity change across space and time\"\n",
        "---"
      ],
      "id": "edb59e11"
    },
    {
      "cell_type": "markdown",
      "metadata": {},
      "source": [
        "```{css, echo = FALSE}\n",
        ".justify {\n",
        "  text-align: justify !important\n",
        "}\n",
        "```\n",
        "\n",
        "\n",
        "::: justify\n",
        "Hi, I'm a biodiversity scientist and evolutionary biologist currently working as a postdoc in the [Macroevolution and Macroecology Group](http://www.macroevoeco.com/) at the [Australian National University](https://biology.anu.edu.au/research/divisions/ecology-and-evolution) (ANU). I'll be beginning an ARC DECRA Fellowship in 2025 looking at how environmental changes shapes the origin and decline of biodiversity across the Asia-Pacific region.\n",
        "\n",
        "![](pictures/me2.jpg){width=\"500\" fig-align=\"center\"} \n",
        "\n",
        "I focus on exploring biodiversity patterns and the evolutionary histories of the plant and animal groups that shape them. For an example of my recent research, you can check out this [link](https://www.science.org/stoken/author-tokens/ST-1301/full). My primary interest lies in the origins of biodiversity hotspots, such as those in **[tropical rainforests]{style=\"color:green;\"}** , **[mountain ranges]{style=\"color:purple;\"}**, and **[Mediterranean-type ecosystems]{style=\"color:orange;\"}**. I also investigate how these regions and their organisms are affected by global change. To address these topics, I use spatial, phylogenetic, and ecological-trait data combined with **simulation modeling** and **phylogenetic comparative analyses**.\n",
        "\n",
        "![](pictures/me3.jpg){width=\"300\" fig-align=\"center\"}\n",
        ":::"
      ],
      "id": "11fca81b"
    }
  ],
  "metadata": {
    "kernelspec": {
      "display_name": "Python 3",
      "language": "python",
      "name": "python3"
    }
  },
  "nbformat": 4,
  "nbformat_minor": 5
}