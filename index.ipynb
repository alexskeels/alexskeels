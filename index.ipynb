{
  "cells": [
    {
      "cell_type": "raw",
      "metadata": {},
      "source": [
        "---\n",
        "title: \"Alex Skeels - biodiversity change across space and time\"\n",
        "format: html\n",
        "---"
      ],
      "id": "50c0b372"
    },
    {
      "cell_type": "markdown",
      "metadata": {},
      "source": [
        "```{css, echo = FALSE}\n",
        ".justify {\n",
        "  text-align: justify !important\n",
        "}\n",
        "```\n",
        "\n",
        "\n",
        "Hi, I'm a biodiversity scientist and evolutionary biologist currently working as a postdoc in the [Macroevolution and Macroecology Group](http://www.macroevoeco.com/) at the [Australian National University](https://biology.anu.edu.au/research/divisions/ecology-and-evolution) (ANU). I'll be beginning an ARC DECRA Fellowship in 2025 looking at how environmental changes shapes the origin and decline of biodiversity across the Asia-Pacific region.\n",
        "\n",
        "![](pictures/me2.jpg){width=\"500\" fig-align=\"center\"}\n",
        "\n",
        "I'm interested in exploring biodiversity patterns and the evolutionary histories of the plant and animal groups that contribute to them. You can find an example of some of my most recent research [here](https://www.science.org/stoken/author-tokens/ST-1301/full). One of my main interests is the origins of *biodiversity hotspots*, such as those found in tropical rainforests, mountain ranges, or Mediterranean-type ecosystems. I am also interested in understanding how these regions, and the organisms within them, are vulnerable to global change. To explore these topics, I analyse spatial, phylogenetic, and ecological-trait data with *simulation modelling* and *phylogenetic* *comparative* *analyses*."
      ],
      "id": "e9ab3390"
    }
  ],
  "metadata": {
    "kernelspec": {
      "display_name": "Python 3",
      "language": "python",
      "name": "python3"
    }
  },
  "nbformat": 4,
  "nbformat_minor": 5
}